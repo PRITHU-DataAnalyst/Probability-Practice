{
 "cells": [
  {
   "cell_type": "code",
   "execution_count": 6,
   "id": "4dae6fbf",
   "metadata": {},
   "outputs": [],
   "source": [
    "import numpy as np\n",
    "import random\n",
    "import matplotlib.pyplot as plt\n",
    "import seaborn as sns"
   ]
  },
  {
   "cell_type": "markdown",
   "id": "be6d9f2a",
   "metadata": {},
   "source": [
    "### Binomial Distribution Assumptions \n",
    "\n",
    "1. Only 2 types of results \n",
    "2. Events are independent\n",
    "3. Each event has the same probability to occur for each run\n",
    "\n"
   ]
  },
  {
   "cell_type": "markdown",
   "id": "be76ea2c",
   "metadata": {},
   "source": [
    "# Examples for assumptions:\n",
    "\n",
    "## Only 2 types of results & Events are independent\n",
    "\n",
    "* Coins - head or tails (can there be both heads and tails?)\n",
    "* e-Commerce - client bought or didn't buy (can you buy and not buy?)\n",
    "* Behavioural - Click or no click\n",
    "* Cyber Security - Fradulant or benign\n",
    "* Marketing - Click on ad or don't\n",
    "* Finance - Stock will go up or down\n"
   ]
  },
  {
   "cell_type": "markdown",
   "id": "66c20c60",
   "metadata": {},
   "source": [
    "## Each event has the same probability to occur for each run - \n",
    "\n",
    "### A Google Interview question\n",
    "* I've thrown a fair coin 4 times, and the results are H,H,H,H - What is the probability for a Tail?\n",
    " * that the next throw will be T?\n",
    " * What is the probability of getting 4 Hs and 1T?\n"
   ]
  },
  {
   "cell_type": "markdown",
   "id": "a6bc7562",
   "metadata": {},
   "source": [
    "## Tossing coins!"
   ]
  },
  {
   "cell_type": "code",
   "execution_count": 7,
   "id": "528b015a",
   "metadata": {},
   "outputs": [
    {
     "ename": "AttributeError",
     "evalue": "'builtin_function_or_method' object has no attribute '_doc_'",
     "output_type": "error",
     "traceback": [
      "\u001b[1;31m---------------------------------------------------------------------------\u001b[0m",
      "\u001b[1;31mAttributeError\u001b[0m                            Traceback (most recent call last)",
      "Input \u001b[1;32mIn [7]\u001b[0m, in \u001b[0;36m<cell line: 2>\u001b[1;34m()\u001b[0m\n\u001b[0;32m      1\u001b[0m \u001b[38;5;66;03m#rrad document conatins binomial functions\u001b[39;00m\n\u001b[1;32m----> 2\u001b[0m \u001b[38;5;28mprint\u001b[39m(\u001b[43mnp\u001b[49m\u001b[38;5;241;43m.\u001b[39;49m\u001b[43mrandom\u001b[49m\u001b[38;5;241;43m.\u001b[39;49m\u001b[43mbinomial\u001b[49m\u001b[38;5;241;43m.\u001b[39;49m\u001b[43m_doc_\u001b[49m)\n",
      "\u001b[1;31mAttributeError\u001b[0m: 'builtin_function_or_method' object has no attribute '_doc_'"
     ]
    }
   ],
   "source": [
    "#rrad document conatins binomial functions\n",
    "print(np.random.binomial._doc_)"
   ]
  },
  {
   "cell_type": "code",
   "execution_count": 10,
   "id": "41aad436",
   "metadata": {},
   "outputs": [
    {
     "name": "stdout",
     "output_type": "stream",
     "text": [
      "1\n",
      "1\n",
      "0\n",
      "0\n"
     ]
    }
   ],
   "source": [
    "# Let's toss a fair coin 4 times\n",
    "\n",
    "print(np.random.binomial(1, 0.5))\n",
    "print(np.random.binomial(1, 0.5))\n",
    "print(np.random.binomial(1, 0.5))\n",
    "print(np.random.binomial(1, 0.5))\n"
   ]
  },
  {
   "cell_type": "code",
   "execution_count": 12,
   "id": "9989d697",
   "metadata": {},
   "outputs": [
    {
     "data": {
      "text/plain": [
       "array([1, 1, 0, 1])"
      ]
     },
     "execution_count": 12,
     "metadata": {},
     "output_type": "execute_result"
    }
   ],
   "source": [
    "# Let's toss a fair coin 4 times\n",
    "np.random.binomial(1, 0.5,4)\n"
   ]
  },
  {
   "cell_type": "code",
   "execution_count": 16,
   "id": "74588fbc",
   "metadata": {},
   "outputs": [
    {
     "data": {
      "text/plain": [
       "[0, 0, 0, 0, 0, 0, 0, 0, 0]"
      ]
     },
     "execution_count": 16,
     "metadata": {},
     "output_type": "execute_result"
    }
   ],
   "source": [
    "# The probability of a client buying a product is 5%, and we have 100 customers\n",
    "\n",
    "# create a list/array of buyers/not buyers using a for loop\n",
    "\n",
    "buyers = []\n",
    "\n",
    "for i in range(100):\n",
    "    buyers.append(np.random.binomial(1, 0.05))\n",
    "buyers[1:10]"
   ]
  },
  {
   "cell_type": "code",
   "execution_count": 17,
   "id": "a5b3579c",
   "metadata": {},
   "outputs": [
    {
     "data": {
      "text/plain": [
       "array([0, 0, 0, 0, 0, 0, 0, 0, 0, 0, 0, 0, 0, 0, 1, 0, 0, 0, 0, 1, 0, 0,\n",
       "       0, 1, 0, 0, 0, 1, 0, 0, 0, 0, 0, 0, 0, 0, 0, 0, 0, 0, 0, 0, 0, 0,\n",
       "       0, 0, 0, 0, 0, 0, 0, 0, 0, 0, 0, 1, 0, 0, 0, 0, 0, 0, 0, 0, 0, 0,\n",
       "       0, 0, 0, 0, 0, 0, 0, 1, 0, 0, 0, 0, 0, 0, 0, 0, 1, 0, 1, 0, 0, 0,\n",
       "       0, 0, 0, 0, 0, 0, 0, 0, 0, 0, 0, 0])"
      ]
     },
     "execution_count": 17,
     "metadata": {},
     "output_type": "execute_result"
    }
   ],
   "source": [
    "# create a list/array of buyers/not buyers without using a for loop\n",
    "\n",
    "np.random.binomial(1, 0.05, 100)"
   ]
  },
  {
   "cell_type": "code",
   "execution_count": 18,
   "id": "cd672612",
   "metadata": {},
   "outputs": [
    {
     "name": "stdout",
     "output_type": "stream",
     "text": [
      "5: \t0.2\n",
      "50: \t0.06\n",
      "500: \t0.054\n",
      "5000: \t0.0406\n"
     ]
    }
   ],
   "source": [
    "# What is the mean of the group (with different group sizes)?\n",
    "\n",
    "print(f\"5: \\t{sum(np.random.binomial(1, 0.05, 5))/5}\")\n",
    "print(f\"50: \\t{sum(np.random.binomial(1, 0.05, 50))/50}\")\n",
    "print(f\"500: \\t{sum(np.random.binomial(1, 0.05, 500))/500}\")\n",
    "print(f\"5000: \\t{sum(np.random.binomial(1, 0.05, 5000))/5000}\")"
   ]
  },
  {
   "cell_type": "code",
   "execution_count": 21,
   "id": "982dd46d",
   "metadata": {},
   "outputs": [
    {
     "name": "stdout",
     "output_type": "stream",
     "text": [
      "The mean for the binomial distribution with p=.05 and group size =1 is 0.0\n",
      "The mean for the binomial distribution with p=.05 and group size =201 is 0.05970149253731343\n",
      "The mean for the binomial distribution with p=.05 and group size =401 is 0.057356608478802994\n",
      "The mean for the binomial distribution with p=.05 and group size =601 is 0.048252911813643926\n",
      "The mean for the binomial distribution with p=.05 and group size =801 is 0.046192259675405745\n"
     ]
    }
   ],
   "source": [
    "# Let's write a for loop\n",
    "\n",
    "for group_size in range(1,1000, 200):\n",
    "    s= sum(np.random.binomial(1, 0.05, group_size))\n",
    "    mean = sum(np.random.binomial(1, 0.05, group_size))/group_size\n",
    "    #print(f\"The total for the binomial distribution with p=.05 and group size ={group_size} is {s}\")\n",
    "    print(f\"The mean for the binomial distribution with p=.05 and group size ={group_size} is {mean}\")"
   ]
  },
  {
   "cell_type": "code",
   "execution_count": 25,
   "id": "09ca0cbf",
   "metadata": {},
   "outputs": [
    {
     "name": "stdout",
     "output_type": "stream",
     "text": [
      "[101, 201, 301, 401, 501, 601, 701, 801, 901]\n",
      "[0.019801980198019802, 0.024875621890547265, 0.07308970099667775, 0.06483790523690773, 0.05389221556886228, 0.048252911813643926, 0.034236804564907276, 0.04868913857677903, 0.048834628190899]\n"
     ]
    }
   ],
   "source": [
    "x, y = [], [] # create list to put value on x and y axis in graph\n",
    "\n",
    "for group_size in range(1,50000, 100):\n",
    "    mean = sum(np.random.binomial(1, 0.05, group_size))/group_size\n",
    "    x.append(group_size)\n",
    "    y.append(mean)\n",
    "    \n",
    "print(x[1:10])\n",
    "print(y[1:10])"
   ]
  },
  {
   "cell_type": "code",
   "execution_count": 27,
   "id": "8e796315",
   "metadata": {},
   "outputs": [
    {
     "data": {
      "text/plain": [
       "<matplotlib.lines.Line2D at 0x246b12c3e20>"
      ]
     },
     "execution_count": 27,
     "metadata": {},
     "output_type": "execute_result"
    },
    {
     "data": {
      "image/png": "[encoded data removed]",
      "text/plain": [
       "<Figure size 432x288 with 1 Axes>"
      ]
     },
     "metadata": {
      "needs_background": "light"
     },
     "output_type": "display_data"
    }
   ],
   "source": [
    "# The average of the group diverges into the probability of success\n",
    "plt.plot(x, y)\n",
    "plt.axhline(0.05, c='r')"
   ]
  },
  {
   "cell_type": "markdown",
   "id": "b467a1b0",
   "metadata": {},
   "source": [
    "# Practice!\n",
    "\n",
    "\n",
    "#### Talk about this usecase:\n",
    "* I have a button on site\n",
    "* The probability that the client will click on it is 3% (because it's located in an inaccisble location)\n",
    "* If in a specific day I have 1000 users - how many of them would click the button?"
   ]
  },
  {
   "cell_type": "code",
   "execution_count": 40,
   "id": "773ed997",
   "metadata": {},
   "outputs": [
    {
     "data": {
      "text/plain": [
       "[0, 0, 0, 0, 0, 0, 0, 0, 0]"
      ]
     },
     "execution_count": 40,
     "metadata": {},
     "output_type": "execute_result"
    }
   ],
   "source": [
    "click = []\n",
    "for i in range(1000):\n",
    "    click.append(np.random.binomial(1, 0.03))\n",
    "    \n",
    "click[1:10]\n"
   ]
  },
  {
   "cell_type": "code",
   "execution_count": 32,
   "id": "dc63d8d5",
   "metadata": {},
   "outputs": [
    {
     "data": {
      "text/plain": [
       "(array([1., 1., 1., 2., 0., 2., 0., 1., 1., 1.]),\n",
       " array([26. , 26.9, 27.8, 28.7, 29.6, 30.5, 31.4, 32.3, 33.2, 34.1, 35. ]),\n",
       " <BarContainer object of 10 artists>)"
      ]
     },
     "execution_count": 32,
     "metadata": {},
     "output_type": "execute_result"
    },
    {
     "data": {
      "image/png": "[encoded data removed]",
      "text/plain": [
       "<Figure size 432x288 with 1 Axes>"
      ]
     },
     "metadata": {
      "needs_background": "light"
     },
     "output_type": "display_data"
    }
   ],
   "source": [
    "collector = []\n",
    "\n",
    "for i in range(10):\n",
    "    success = np.random.binomial(1000, 0.03)\n",
    "    collector.append(success)\n",
    "    \n",
    "plt.hist(collector)"
   ]
  },
  {
   "cell_type": "code",
   "execution_count": 33,
   "id": "9c922f58",
   "metadata": {},
   "outputs": [
    {
     "data": {
      "text/plain": [
       "(array([ 2.,  4.,  5., 19., 11., 18., 20., 12.,  6.,  3.]),\n",
       " array([15. , 17.8, 20.6, 23.4, 26.2, 29. , 31.8, 34.6, 37.4, 40.2, 43. ]),\n",
       " <BarContainer object of 10 artists>)"
      ]
     },
     "execution_count": 33,
     "metadata": {},
     "output_type": "execute_result"
    },
    {
     "data": {
      "image/png": "[encoded data removed]",
      "text/plain": [
       "<Figure size 432x288 with 1 Axes>"
      ]
     },
     "metadata": {
      "needs_background": "light"
     },
     "output_type": "display_data"
    }
   ],
   "source": [
    "collector = []\n",
    "\n",
    "for i in range(100):\n",
    "    success = np.random.binomial(1000, 0.03)\n",
    "    collector.append(success)\n",
    "    \n",
    "plt.hist(collector)"
   ]
  },
  {
   "cell_type": "code",
   "execution_count": 34,
   "id": "61c1dad3",
   "metadata": {},
   "outputs": [
    {
     "data": {
      "text/plain": [
       "(array([ 26.,  50., 128., 263., 205., 157., 120.,  38.,  11.,   2.]),\n",
       " array([16. , 19.3, 22.6, 25.9, 29.2, 32.5, 35.8, 39.1, 42.4, 45.7, 49. ]),\n",
       " <BarContainer object of 10 artists>)"
      ]
     },
     "execution_count": 34,
     "metadata": {},
     "output_type": "execute_result"
    },
    {
     "data": {
      "image/png": "[encoded data removed]",
      "text/plain": [
       "<Figure size 432x288 with 1 Axes>"
      ]
     },
     "metadata": {
      "needs_background": "light"
     },
     "output_type": "display_data"
    }
   ],
   "source": [
    "collector = []\n",
    "\n",
    "for i in range(1000):\n",
    "    success = np.random.binomial(1000, 0.03)\n",
    "    collector.append(success)\n",
    "    \n",
    "plt.hist(collector)"
   ]
  },
  {
   "cell_type": "code",
   "execution_count": 36,
   "id": "1e70bfd1",
   "metadata": {},
   "outputs": [
    {
     "data": {
      "text/plain": [
       "(array([  14.,  182.,  895., 2220., 2920., 2257., 1067.,  349.,   86.,\n",
       "          10.]),\n",
       " array([12., 16., 20., 24., 28., 32., 36., 40., 44., 48., 52.]),\n",
       " <BarContainer object of 10 artists>)"
      ]
     },
     "execution_count": 36,
     "metadata": {},
     "output_type": "execute_result"
    },
    {
     "data": {
      "image/png": "[encoded data removed]",
      "text/plain": [
       "<Figure size 432x288 with 1 Axes>"
      ]
     },
     "metadata": {
      "needs_background": "light"
     },
     "output_type": "display_data"
    }
   ],
   "source": [
    "collector = []\n",
    "\n",
    "for i in range(10000):\n",
    "    success = np.random.binomial(1000, 0.03)\n",
    "    collector.append(success)\n",
    "    \n",
    "plt.hist(collector)"
   ]
  },
  {
   "cell_type": "markdown",
   "id": "f8e62a2f",
   "metadata": {},
   "source": [
    "# Normal distribution is continous - Binomial is discrete\n",
    "\n",
    "The main difference is that normal distribution is continous \n",
    "whereas binomial is discrete, but if there are enough data points it\n",
    " will be quite similar to normal distribution with certain loc and scale.\n",
    "\n"
   ]
  },
  {
   "cell_type": "markdown",
   "id": "53fc9d54",
   "metadata": {},
   "source": [
    "* I run a stand outside Lazy Dada's show and I sell merch\n",
    "* The probability that the client will buy something on it is 36% \n",
    "* In a specifric show I have 250 groups of 10 people"
   ]
  },
  {
   "cell_type": "code",
   "execution_count": 41,
   "id": "7afec45d",
   "metadata": {},
   "outputs": [
    {
     "data": {
      "text/plain": [
       "88"
      ]
     },
     "execution_count": 41,
     "metadata": {},
     "output_type": "execute_result"
    }
   ],
   "source": [
    "buyers = []\n",
    "\n",
    "for i in range(250):\n",
    "    buys = np.random.binomial(1, 0.36)\n",
    "    buyers.append(buys)\n",
    "    \n",
    "sum(buyers)"
   ]
  },
  {
   "cell_type": "markdown",
   "id": "0b28e8f2",
   "metadata": {},
   "source": [
    "# Let's get back to coins!\n",
    "\n",
    "\n",
    "I have 2 coins, one is fair, the other?\n",
    "Maybe.\n",
    "\n",
    "\n",
    "How can I determine if it's a fair coin?"
   ]
  },
  {
   "cell_type": "markdown",
   "id": "84b5c75d",
   "metadata": {},
   "source": [
    "* We will conduct a battery of 100 experiemnts\n",
    "* In each experiment we will throw the 2 coins 1000 times\n",
    "* and write down the probability of success \n",
    "* Then - We plot it, and see what we think"
   ]
  },
  {
   "cell_type": "code",
   "execution_count": 42,
   "id": "02c95da1",
   "metadata": {},
   "outputs": [],
   "source": [
    "coin_fair = np.random.binomial(1, 0.5)\n",
    "coin_not_fair = np.random.binomial(1, 0.5)\n",
    "    "
   ]
  },
  {
   "cell_type": "code",
   "execution_count": null,
   "id": "ebce1910",
   "metadata": {},
   "outputs": [],
   "source": []
  },
  {
   "cell_type": "code",
   "execution_count": null,
   "id": "9183d6a8",
   "metadata": {},
   "outputs": [],
   "source": []
  },
  {
   "cell_type": "code",
   "execution_count": 169,
   "id": "22ef3c7c",
   "metadata": {},
   "outputs": [
    {
     "data": {
      "text/plain": [
       "<matplotlib.legend.Legend at 0x2573c52f610>"
      ]
     },
     "execution_count": 169,
     "metadata": {},
     "output_type": "execute_result"
    },
    {
     "data": {
      "image/png": "[encoded data removed]",
      "text/plain": [
       "<Figure size 432x288 with 1 Axes>"
      ]
     },
     "metadata": {
      "needs_background": "light"
     },
     "output_type": "display_data"
    }
   ],
   "source": []
  },
  {
   "cell_type": "code",
   "execution_count": 170,
   "id": "67b04520",
   "metadata": {},
   "outputs": [
    {
     "data": {
      "text/plain": [
       "<matplotlib.legend.Legend at 0x2573c5c32e0>"
      ]
     },
     "execution_count": 170,
     "metadata": {},
     "output_type": "execute_result"
    },
    {
     "data": {
      "image/png": "[encoded data removed]",
      "text/plain": [
       "<Figure size 432x288 with 1 Axes>"
      ]
     },
     "metadata": {
      "needs_background": "light"
     },
     "output_type": "display_data"
    }
   ],
   "source": []
  },
  {
   "cell_type": "markdown",
   "id": "0ea02b97",
   "metadata": {},
   "source": [
    "# How confident are we?"
   ]
  },
  {
   "cell_type": "code",
   "execution_count": 173,
   "id": "30ea3b5b",
   "metadata": {},
   "outputs": [
    {
     "data": {
      "text/plain": [
       "<matplotlib.legend.Legend at 0x2573c718b50>"
      ]
     },
     "execution_count": 173,
     "metadata": {},
     "output_type": "execute_result"
    },
    {
     "data": {
      "image/png": "[encoded data removed]",
      "text/plain": [
       "<Figure size 432x288 with 1 Axes>"
      ]
     },
     "metadata": {
      "needs_background": "light"
     },
     "output_type": "display_data"
    }
   ],
   "source": []
  },
  {
   "cell_type": "code",
   "execution_count": null,
   "id": "8288f090",
   "metadata": {},
   "outputs": [],
   "source": []
  },
  {
   "cell_type": "code",
   "execution_count": 178,
   "id": "4ca8056c",
   "metadata": {},
   "outputs": [
    {
     "data": {
      "text/plain": [
       "<matplotlib.legend.Legend at 0x2573c9dad00>"
      ]
     },
     "execution_count": 178,
     "metadata": {},
     "output_type": "execute_result"
    },
    {
     "data": {
      "image/png": "[encoded data removed]",
      "text/plain": [
       "<Figure size 432x288 with 1 Axes>"
      ]
     },
     "metadata": {
      "needs_background": "light"
     },
     "output_type": "display_data"
    }
   ],
   "source": []
  },
  {
   "cell_type": "code",
   "execution_count": null,
   "id": "4579302f",
   "metadata": {},
   "outputs": [],
   "source": []
  }
 ],
 "metadata": {
  "kernelspec": {
   "display_name": "Python 3",
   "language": "python",
   "name": "python3"
  },
  "language_info": {
   "codemirror_mode": {
    "name": "ipython",
    "version": 3
   },
   "file_extension": ".py",
   "mimetype": "text/x-python",
   "name": "python",
   "nbconvert_exporter": "python",
   "pygments_lexer": "ipython3",
   "version": "3.9.12"
  }
 },
 "nbformat": 4,
 "nbformat_minor": 5
}
